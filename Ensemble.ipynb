{
  "nbformat": 4,
  "nbformat_minor": 0,
  "metadata": {
    "colab": {
      "name": "Ensemble.ipynb",
      "provenance": [],
      "collapsed_sections": [
        "eESBNFz4OAJ-",
        "oVwn_mGhOD_O"
      ]
    },
    "kernelspec": {
      "name": "python3",
      "display_name": "Python 3"
    },
    "language_info": {
      "name": "python"
    },
    "accelerator": "GPU"
  },
  "cells": [
    {
      "cell_type": "code",
      "metadata": {
        "id": "bYfNb-52fbx9"
      },
      "source": [
        "!mkdir test"
      ],
      "execution_count": null,
      "outputs": []
    },
    {
      "cell_type": "code",
      "metadata": {
        "id": "pm8D-iHpCiSR",
        "colab": {
          "base_uri": "https://localhost:8080/"
        },
        "outputId": "82277ff3-449b-480c-df09-477866e6729b"
      },
      "source": [
        "import os, shutil\n",
        "from tqdm import tqdm\n",
        "import random\n",
        "\n",
        "images = random.sample(os.listdir('/content/drive/MyDrive/Covid_classification/Lung_SD'), 100)\n",
        "DIR = '/content/drive/MyDrive/Covid_classification/Lung_SD/'\n",
        "\n",
        "for img in tqdm(images):\n",
        "  shutil.copy(DIR + img, '/content/test/' + img)"
      ],
      "execution_count": null,
      "outputs": [
        {
          "output_type": "stream",
          "name": "stderr",
          "text": [
            "100%|██████████| 100/100 [00:47<00:00,  2.13it/s]\n"
          ]
        }
      ]
    },
    {
      "cell_type": "markdown",
      "metadata": {
        "id": "eESBNFz4OAJ-"
      },
      "source": [
        "# **Run Detection**"
      ]
    },
    {
      "cell_type": "code",
      "metadata": {
        "colab": {
          "base_uri": "https://localhost:8080/"
        },
        "id": "OagE2aBbHwOt",
        "outputId": "813228d5-f654-4a68-8bb1-d461109e0380"
      },
      "source": [
        "%cd /content/drive/MyDrive/Covid_final/yolov5"
      ],
      "execution_count": null,
      "outputs": [
        {
          "output_type": "stream",
          "name": "stdout",
          "text": [
            "/content/drive/MyDrive/Covid_final/yolov5\n"
          ]
        }
      ]
    },
    {
      "cell_type": "code",
      "metadata": {
        "colab": {
          "base_uri": "https://localhost:8080/"
        },
        "id": "HUAtNKkrzH47",
        "outputId": "83599b91-f6eb-4468-de76-bfe0c7c9ec3d"
      },
      "source": [
        "# !git clone https://github.com/ultralytics/yolov5  # clone repo\n",
        "# %cd yolov5\n",
        "%pip install -qr requirements.txt  # install dependencies\n",
        "\n",
        "import torch\n",
        "from IPython.display import Image, clear_output  # to display images\n",
        "\n",
        "clear_output()\n",
        "print(f\"Setup complete. Using torch {torch.__version__} ({torch.cuda.get_device_properties(0).name if torch.cuda.is_available() else 'CPU'})\")"
      ],
      "execution_count": null,
      "outputs": [
        {
          "output_type": "stream",
          "name": "stdout",
          "text": [
            "Setup complete. Using torch 1.9.0+cu111 (Tesla P100-PCIE-16GB)\n"
          ]
        }
      ]
    },
    {
      "cell_type": "code",
      "metadata": {
        "id": "NBs2oWZMzPAZ"
      },
      "source": [
        "typical_weights = '/content/drive/MyDrive/Covid_final/runs_segmentation_typical_300epochs/train/exp2/weights/best.pt'\n",
        "indeterminate_weights = '/content/drive/MyDrive/Covid_final/runs_segmentation_indeterminate_300epochs/train/exp2/weights/best.pt'\n",
        "atypical_weights = '/content/drive/MyDrive/Covid_final/runs_segmentation_atypical_300epochs/train/exp2/weights/best.pt'"
      ],
      "execution_count": null,
      "outputs": []
    },
    {
      "cell_type": "code",
      "metadata": {
        "colab": {
          "base_uri": "https://localhost:8080/"
        },
        "id": "QevaCEfTEtNI",
        "outputId": "82cf7810-0f3b-462c-d15f-7c3c8f3048ff"
      },
      "source": [
        "!pwd"
      ],
      "execution_count": null,
      "outputs": [
        {
          "output_type": "stream",
          "name": "stdout",
          "text": [
            "/content/drive/My Drive/Covid_final/yolov5\n"
          ]
        }
      ]
    },
    {
      "cell_type": "code",
      "metadata": {
        "id": "x2UVKGDzymtC",
        "colab": {
          "base_uri": "https://localhost:8080/"
        },
        "outputId": "0d6eacff-c244-4e9e-c0aa-edb23a78a860"
      },
      "source": [
        "!python detect.py --name 'typical' --save-txt --save-conf --weights '/content/drive/MyDrive/Covid_final/runs_segmentation_typical_300epochs/train/exp3/weights/best.pt' --img 512 --conf 0.1 --iou 0.5 --source /content/test --exist-ok"
      ],
      "execution_count": null,
      "outputs": [
        {
          "output_type": "stream",
          "name": "stdout",
          "text": [
            "Namespace(agnostic_nms=False, augment=False, classes=None, conf_thres=0.1, device='', exist_ok=True, img_size=512, iou_thres=0.5, name='typical', project='runs/detect', save_conf=True, save_txt=True, source='/content/test', update=False, view_img=False, weights=['/content/drive/MyDrive/Covid_final/runs_segmentation_typical_300epochs/train/exp3/weights/best.pt'])\n",
            "Using torch 1.9.0+cu111 CUDA:0 (Tesla P100-PCIE-16GB, 16280.875MB)\n",
            "\n",
            "Fusing layers... \n",
            "/usr/local/lib/python3.7/dist-packages/torch/nn/functional.py:718: UserWarning: Named tensors and all their associated APIs are an experimental feature and subject to change. Please do not use them for anything important until they are released as stable. (Triggered internally at  /pytorch/c10/core/TensorImpl.h:1156.)\n",
            "  return torch.max_pool2d(input, kernel_size, stride, padding, dilation, ceil_mode)\n",
            "Model Summary: 484 layers, 88390614 parameters, 0 gradients, 219.8 GFLOPS\n",
            "image 1/100 /content/test/01376c1ba556.png: 512x512 2 0. typicals, Done. (0.042s)\n",
            "image 2/100 /content/test/01a869686037.png: 512x512 2 0. typicals, Done. (0.033s)\n",
            "image 3/100 /content/test/01e4def48338.png: 512x512 2 0. typicals, Done. (0.033s)\n",
            "image 4/100 /content/test/03dc2e91e74d.png: 512x512 3 0. typicals, Done. (0.033s)\n",
            "image 5/100 /content/test/04c1af6cb8df.png: 512x512 2 0. typicals, Done. (0.031s)\n",
            "image 6/100 /content/test/06f4f2f03a93_gaussianBlur.png: 512x512 2 0. typicals, Done. (0.031s)\n",
            "image 7/100 /content/test/09c909226d35_gaussianBlur.png: 512x512 Done. (0.030s)\n",
            "image 8/100 /content/test/0c5283a41d9d_affine.png: 512x512 2 0. typicals, Done. (0.031s)\n",
            "image 9/100 /content/test/0d71137b53d7.png: 512x512 2 0. typicals, Done. (0.031s)\n",
            "image 10/100 /content/test/1ae2c3d63f1c.png: 512x512 2 0. typicals, Done. (0.038s)\n",
            "image 11/100 /content/test/1d96a1349a36.png: 512x512 2 0. typicals, Done. (0.032s)\n",
            "image 12/100 /content/test/1ea96fd9dd7c.png: 512x512 2 0. typicals, Done. (0.031s)\n",
            "image 13/100 /content/test/1ed1fa2827c8_gaussianBlur.png: 512x512 2 0. typicals, Done. (0.031s)\n",
            "image 14/100 /content/test/22d2fa33d2d1.png: 512x512 1 0. typicals, Done. (0.031s)\n",
            "image 15/100 /content/test/24676aae20cf_rotate90.png: 512x512 Done. (0.030s)\n",
            "image 16/100 /content/test/25af1dc6eb56.png: 512x512 2 0. typicals, Done. (0.031s)\n",
            "image 17/100 /content/test/27aa1d7c5cfe.png: 512x512 2 0. typicals, Done. (0.031s)\n",
            "image 18/100 /content/test/27e463d224ef.png: 512x512 2 0. typicals, Done. (0.031s)\n",
            "image 19/100 /content/test/2fdf3a91ebb5.png: 512x512 3 0. typicals, Done. (0.031s)\n",
            "image 20/100 /content/test/31376011baec.png: 512x512 3 0. typicals, Done. (0.031s)\n",
            "image 21/100 /content/test/319b2b906a1f_rotate90.png: 512x512 1 0. typicals, Done. (0.031s)\n",
            "image 22/100 /content/test/35e809b03440_affine.png: 512x512 2 0. typicals, Done. (0.031s)\n",
            "image 23/100 /content/test/424118f1afc8_flip.png: 512x512 2 0. typicals, Done. (0.031s)\n",
            "image 24/100 /content/test/4927468dcace_gaussianBlur.png: 512x512 2 0. typicals, Done. (0.031s)\n",
            "image 25/100 /content/test/4d904469de66.png: 512x512 2 0. typicals, Done. (0.031s)\n",
            "image 26/100 /content/test/4e8f69e4ffa4.png: 512x512 2 0. typicals, Done. (0.032s)\n",
            "image 27/100 /content/test/4efd20c837dc.png: 512x512 1 0. typicals, Done. (0.031s)\n",
            "image 28/100 /content/test/5115fada2a38_gaussianBlur.png: 512x512 2 0. typicals, Done. (0.031s)\n",
            "image 29/100 /content/test/51bb4235d797_gaussianBlur.png: 512x512 3 0. typicals, Done. (0.031s)\n",
            "image 30/100 /content/test/5465a55f0ee2.png: 512x512 1 0. typicals, Done. (0.031s)\n",
            "image 31/100 /content/test/54c2a4ddd625_gaussianBlur.png: 512x512 2 0. typicals, Done. (0.031s)\n",
            "image 32/100 /content/test/54f912577306.png: 512x512 4 0. typicals, Done. (0.031s)\n",
            "image 33/100 /content/test/5521664ffec4.png: 512x512 2 0. typicals, Done. (0.032s)\n",
            "image 34/100 /content/test/5cae48f87eb1.png: 512x512 1 0. typicals, Done. (0.031s)\n",
            "image 35/100 /content/test/5f5cdc44b299_gaussianBlur.png: 512x512 3 0. typicals, Done. (0.031s)\n",
            "image 36/100 /content/test/608d574388ba.png: 512x512 2 0. typicals, Done. (0.031s)\n",
            "image 37/100 /content/test/636b2b26d2f8_rotate90.png: 512x512 2 0. typicals, Done. (0.031s)\n",
            "image 38/100 /content/test/6a80fbffe6d9_affine.png: 512x512 2 0. typicals, Done. (0.031s)\n",
            "image 39/100 /content/test/72483572a348.png: 512x512 1 0. typicals, Done. (0.031s)\n",
            "image 40/100 /content/test/731fd80099b1_flip.png: 512x512 1 0. typicals, Done. (0.033s)\n",
            "image 41/100 /content/test/74077a8e3b7c_gaussianBlur.png: 512x512 2 0. typicals, Done. (0.031s)\n",
            "image 42/100 /content/test/76264298dfc8_affine.png: 512x512 2 0. typicals, Done. (0.031s)\n",
            "image 43/100 /content/test/7652321644be.png: 512x512 2 0. typicals, Done. (0.033s)\n",
            "image 44/100 /content/test/76d45ddd80d8.png: 512x512 3 0. typicals, Done. (0.031s)\n",
            "image 45/100 /content/test/7749cddd0a17.png: 512x512 3 0. typicals, Done. (0.031s)\n",
            "image 46/100 /content/test/7b2427458df7.png: 512x512 2 0. typicals, Done. (0.031s)\n",
            "image 47/100 /content/test/803d705a1d33.png: 512x512 2 0. typicals, Done. (0.031s)\n",
            "image 48/100 /content/test/823021d09748.png: 512x512 2 0. typicals, Done. (0.031s)\n",
            "image 49/100 /content/test/8796d926ea05_rotate90.png: 512x512 2 0. typicals, Done. (0.031s)\n",
            "image 50/100 /content/test/891e69e94d41.png: 512x512 2 0. typicals, Done. (0.031s)\n",
            "image 51/100 /content/test/89f79c0409a8.png: 512x512 2 0. typicals, Done. (0.031s)\n",
            "image 52/100 /content/test/8b952bd3b600.png: 512x512 2 0. typicals, Done. (0.031s)\n",
            "image 53/100 /content/test/8bb20ca76aad_gaussianBlur.png: 512x512 2 0. typicals, Done. (0.031s)\n",
            "image 54/100 /content/test/94dfaa1ebe4d_gaussianBlur.png: 512x512 2 0. typicals, Done. (0.031s)\n",
            "image 55/100 /content/test/9b056a88674c_gaussianBlur.png: 512x512 3 0. typicals, Done. (0.032s)\n",
            "image 56/100 /content/test/9be91275c44f.png: 512x512 2 0. typicals, Done. (0.031s)\n",
            "image 57/100 /content/test/9d45a7e2deda.png: 512x512 2 0. typicals, Done. (0.031s)\n",
            "image 58/100 /content/test/9e43d7b5ad9c_gaussianBlur.png: 512x512 2 0. typicals, Done. (0.032s)\n",
            "image 59/100 /content/test/a09c6b006ed5.png: 512x512 2 0. typicals, Done. (0.031s)\n",
            "image 60/100 /content/test/a0e1cf897de9.png: 512x512 2 0. typicals, Done. (0.031s)\n",
            "image 61/100 /content/test/a1b228f183e6_rotate90.png: 512x512 2 0. typicals, Done. (0.031s)\n",
            "image 62/100 /content/test/a3e473d88466.png: 512x512 2 0. typicals, Done. (0.031s)\n",
            "image 63/100 /content/test/a5439252456f_rotate90.png: 512x512 3 0. typicals, Done. (0.031s)\n",
            "image 64/100 /content/test/a84e98abdf6d_rotate90.png: 512x512 Done. (0.030s)\n",
            "image 65/100 /content/test/adf925d6c357.png: 512x512 2 0. typicals, Done. (0.032s)\n",
            "image 66/100 /content/test/b2f5d0fe9ab4_rotate90.png: 512x512 2 0. typicals, Done. (0.031s)\n",
            "image 67/100 /content/test/b4e79f33047e.png: 512x512 3 0. typicals, Done. (0.031s)\n",
            "image 68/100 /content/test/b6959ada9a45_gaussianBlur.png: 512x512 4 0. typicals, Done. (0.031s)\n",
            "image 69/100 /content/test/b86bb52a7263.png: 512x512 2 0. typicals, Done. (0.031s)\n",
            "image 70/100 /content/test/bfdca4ce0cc9_rotate90.png: 512x512 2 0. typicals, Done. (0.031s)\n",
            "image 71/100 /content/test/c4812db46b98_affine.png: 512x512 2 0. typicals, Done. (0.031s)\n",
            "image 72/100 /content/test/c59cd49adf61_gaussianBlur.png: 512x512 2 0. typicals, Done. (0.031s)\n",
            "image 73/100 /content/test/c63f93b9e947_rotate90.png: 512x512 Done. (0.030s)\n",
            "image 74/100 /content/test/c73e3e0a98dc_gaussianBlur.png: 512x512 2 0. typicals, Done. (0.032s)\n",
            "image 75/100 /content/test/c8294ce59bdc_rotate90.png: 512x512 Done. (0.030s)\n",
            "image 76/100 /content/test/cca1c1a5635c_affine.png: 512x512 2 0. typicals, Done. (0.031s)\n",
            "image 77/100 /content/test/ce767a31525f.png: 512x512 2 0. typicals, Done. (0.031s)\n",
            "image 78/100 /content/test/d3d2a150489e.png: 512x512 2 0. typicals, Done. (0.031s)\n",
            "image 79/100 /content/test/d64b8920a193_rotate90.png: 512x512 1 0. typicals, Done. (0.032s)\n",
            "image 80/100 /content/test/d908cf9ff11b_gaussianBlur.png: 512x512 2 0. typicals, Done. (0.031s)\n",
            "image 81/100 /content/test/d9a7611d9adb.png: 512x512 2 0. typicals, Done. (0.036s)\n",
            "image 82/100 /content/test/dd7805f39e0d_rotate90.png: 512x512 Done. (0.030s)\n",
            "image 83/100 /content/test/de8583c07c80.png: 512x512 2 0. typicals, Done. (0.031s)\n",
            "image 84/100 /content/test/e205526f7405_affine.png: 512x512 3 0. typicals, Done. (0.033s)\n",
            "image 85/100 /content/test/e313470893d0_rotate90.png: 512x512 2 0. typicals, Done. (0.031s)\n",
            "image 86/100 /content/test/e363ca6a9b8d_rotate90.png: 512x512 Done. (0.030s)\n",
            "image 87/100 /content/test/e44be39bc62e_rotate90.png: 512x512 Done. (0.030s)\n",
            "image 88/100 /content/test/e6211c5c218c.png: 512x512 1 0. typicals, Done. (0.031s)\n",
            "image 89/100 /content/test/e885aaec6e66_rotate90.png: 512x512 2 0. typicals, Done. (0.031s)\n",
            "image 90/100 /content/test/e8e902f1b426_gaussianBlur.png: 512x512 3 0. typicals, Done. (0.031s)\n",
            "image 91/100 /content/test/e91403f2b6da_rotate90.png: 512x512 1 0. typicals, Done. (0.031s)\n",
            "image 92/100 /content/test/eab8dd7373b1_gaussianBlur.png: 512x512 1 0. typicals, Done. (0.031s)\n",
            "image 93/100 /content/test/efdc1a6d4739_affine.png: 512x512 2 0. typicals, Done. (0.031s)\n",
            "image 94/100 /content/test/f4711a5828f7.png: 512x512 2 0. typicals, Done. (0.031s)\n",
            "image 95/100 /content/test/f6ef78fff495_rotate90.png: 512x512 2 0. typicals, Done. (0.031s)\n",
            "image 96/100 /content/test/fb90b9f3be91_rotate90.png: 512x512 Done. (0.030s)\n",
            "image 97/100 /content/test/fe59c1157f50.png: 512x512 2 0. typicals, Done. (0.041s)\n",
            "image 98/100 /content/test/fe6cd1fbae72.png: 512x512 2 0. typicals, Done. (0.036s)\n",
            "image 99/100 /content/test/fe9d1086b64d_rotate90.png: 512x512 Done. (0.030s)\n",
            "image 100/100 /content/test/ffa9fef3c7bf_rotate90.png: 512x512 2 0. typicals, Done. (0.031s)\n",
            "Results saved to runs/detect/typical\n",
            "90 labels saved to runs/detect/typical/labels\n",
            "Done. (6.310s)\n"
          ]
        }
      ]
    },
    {
      "cell_type": "code",
      "metadata": {
        "id": "TKmMRiK20pZb",
        "colab": {
          "base_uri": "https://localhost:8080/"
        },
        "outputId": "c0e2cd54-3d9d-4dc9-9224-428ff0197e68"
      },
      "source": [
        "!python detect.py --name 'indeterminate' --save-txt --save-conf --weights '/content/drive/MyDrive/Covid_final/runs_segmentation_indeterminate_300epochs/train/exp2/weights/best.pt' --img 512 --conf 0.1 --iou 0.5 --source /content/test --exist-ok"
      ],
      "execution_count": null,
      "outputs": [
        {
          "output_type": "stream",
          "name": "stdout",
          "text": [
            "Namespace(agnostic_nms=False, augment=False, classes=None, conf_thres=0.1, device='', exist_ok=True, img_size=512, iou_thres=0.5, name='indeterminate', project='runs/detect', save_conf=True, save_txt=True, source='/content/test', update=False, view_img=False, weights=['/content/drive/MyDrive/Covid_final/runs_segmentation_indeterminate_300epochs/train/exp2/weights/best.pt'])\n",
            "Using torch 1.9.0+cu111 CUDA:0 (Tesla P100-PCIE-16GB, 16280.875MB)\n",
            "\n",
            "Fusing layers... \n",
            "/usr/local/lib/python3.7/dist-packages/torch/nn/functional.py:718: UserWarning: Named tensors and all their associated APIs are an experimental feature and subject to change. Please do not use them for anything important until they are released as stable. (Triggered internally at  /pytorch/c10/core/TensorImpl.h:1156.)\n",
            "  return torch.max_pool2d(input, kernel_size, stride, padding, dilation, ceil_mode)\n",
            "Model Summary: 484 layers, 88390614 parameters, 0 gradients, 219.8 GFLOPS\n",
            "image 1/100 /content/test/01376c1ba556.png: 512x512 2 1. indeterminates, Done. (0.034s)\n",
            "image 2/100 /content/test/01a869686037.png: 512x512 Done. (0.033s)\n",
            "image 3/100 /content/test/01e4def48338.png: 512x512 1 1. indeterminates, Done. (0.031s)\n",
            "image 4/100 /content/test/03dc2e91e74d.png: 512x512 Done. (0.032s)\n",
            "image 5/100 /content/test/04c1af6cb8df.png: 512x512 Done. (0.030s)\n",
            "image 6/100 /content/test/06f4f2f03a93_gaussianBlur.png: 512x512 Done. (0.030s)\n",
            "image 7/100 /content/test/09c909226d35_gaussianBlur.png: 512x512 Done. (0.038s)\n",
            "image 8/100 /content/test/0c5283a41d9d_affine.png: 512x512 Done. (0.030s)\n",
            "image 9/100 /content/test/0d71137b53d7.png: 512x512 Done. (0.030s)\n",
            "image 10/100 /content/test/1ae2c3d63f1c.png: 512x512 Done. (0.030s)\n",
            "image 11/100 /content/test/1d96a1349a36.png: 512x512 Done. (0.030s)\n",
            "image 12/100 /content/test/1ea96fd9dd7c.png: 512x512 Done. (0.030s)\n",
            "image 13/100 /content/test/1ed1fa2827c8_gaussianBlur.png: 512x512 1 1. indeterminates, Done. (0.031s)\n",
            "image 14/100 /content/test/22d2fa33d2d1.png: 512x512 Done. (0.030s)\n",
            "image 15/100 /content/test/24676aae20cf_rotate90.png: 512x512 Done. (0.030s)\n",
            "image 16/100 /content/test/25af1dc6eb56.png: 512x512 Done. (0.030s)\n",
            "image 17/100 /content/test/27aa1d7c5cfe.png: 512x512 1 1. indeterminates, Done. (0.031s)\n",
            "image 18/100 /content/test/27e463d224ef.png: 512x512 Done. (0.030s)\n",
            "image 19/100 /content/test/2fdf3a91ebb5.png: 512x512 Done. (0.030s)\n",
            "image 20/100 /content/test/31376011baec.png: 512x512 Done. (0.030s)\n",
            "image 21/100 /content/test/319b2b906a1f_rotate90.png: 512x512 Done. (0.030s)\n",
            "image 22/100 /content/test/35e809b03440_affine.png: 512x512 2 1. indeterminates, Done. (0.031s)\n",
            "image 23/100 /content/test/424118f1afc8_flip.png: 512x512 Done. (0.030s)\n",
            "image 24/100 /content/test/4927468dcace_gaussianBlur.png: 512x512 1 1. indeterminates, Done. (0.031s)\n",
            "image 25/100 /content/test/4d904469de66.png: 512x512 Done. (0.030s)\n",
            "image 26/100 /content/test/4e8f69e4ffa4.png: 512x512 1 1. indeterminates, Done. (0.031s)\n",
            "image 27/100 /content/test/4efd20c837dc.png: 512x512 Done. (0.030s)\n",
            "image 28/100 /content/test/5115fada2a38_gaussianBlur.png: 512x512 1 1. indeterminates, Done. (0.031s)\n",
            "image 29/100 /content/test/51bb4235d797_gaussianBlur.png: 512x512 Done. (0.030s)\n",
            "image 30/100 /content/test/5465a55f0ee2.png: 512x512 Done. (0.030s)\n",
            "image 31/100 /content/test/54c2a4ddd625_gaussianBlur.png: 512x512 Done. (0.030s)\n",
            "image 32/100 /content/test/54f912577306.png: 512x512 Done. (0.030s)\n",
            "image 33/100 /content/test/5521664ffec4.png: 512x512 Done. (0.030s)\n",
            "image 34/100 /content/test/5cae48f87eb1.png: 512x512 Done. (0.030s)\n",
            "image 35/100 /content/test/5f5cdc44b299_gaussianBlur.png: 512x512 Done. (0.030s)\n",
            "image 36/100 /content/test/608d574388ba.png: 512x512 Done. (0.030s)\n",
            "image 37/100 /content/test/636b2b26d2f8_rotate90.png: 512x512 Done. (0.030s)\n",
            "image 38/100 /content/test/6a80fbffe6d9_affine.png: 512x512 Done. (0.030s)\n",
            "image 39/100 /content/test/72483572a348.png: 512x512 Done. (0.030s)\n",
            "image 40/100 /content/test/731fd80099b1_flip.png: 512x512 Done. (0.030s)\n",
            "image 41/100 /content/test/74077a8e3b7c_gaussianBlur.png: 512x512 1 1. indeterminates, Done. (0.032s)\n",
            "image 42/100 /content/test/76264298dfc8_affine.png: 512x512 2 1. indeterminates, Done. (0.031s)\n",
            "image 43/100 /content/test/7652321644be.png: 512x512 1 1. indeterminates, Done. (0.031s)\n",
            "image 44/100 /content/test/76d45ddd80d8.png: 512x512 Done. (0.030s)\n",
            "image 45/100 /content/test/7749cddd0a17.png: 512x512 2 1. indeterminates, Done. (0.031s)\n",
            "image 46/100 /content/test/7b2427458df7.png: 512x512 Done. (0.030s)\n",
            "image 47/100 /content/test/803d705a1d33.png: 512x512 Done. (0.030s)\n",
            "image 48/100 /content/test/823021d09748.png: 512x512 1 1. indeterminates, Done. (0.031s)\n",
            "image 49/100 /content/test/8796d926ea05_rotate90.png: 512x512 Done. (0.030s)\n",
            "image 50/100 /content/test/891e69e94d41.png: 512x512 Done. (0.030s)\n",
            "image 51/100 /content/test/89f79c0409a8.png: 512x512 Done. (0.030s)\n",
            "image 52/100 /content/test/8b952bd3b600.png: 512x512 Done. (0.030s)\n",
            "image 53/100 /content/test/8bb20ca76aad_gaussianBlur.png: 512x512 1 1. indeterminates, Done. (0.031s)\n",
            "image 54/100 /content/test/94dfaa1ebe4d_gaussianBlur.png: 512x512 Done. (0.030s)\n",
            "image 55/100 /content/test/9b056a88674c_gaussianBlur.png: 512x512 1 1. indeterminates, Done. (0.031s)\n",
            "image 56/100 /content/test/9be91275c44f.png: 512x512 Done. (0.030s)\n",
            "image 57/100 /content/test/9d45a7e2deda.png: 512x512 2 1. indeterminates, Done. (0.031s)\n",
            "image 58/100 /content/test/9e43d7b5ad9c_gaussianBlur.png: 512x512 1 1. indeterminates, Done. (0.031s)\n",
            "image 59/100 /content/test/a09c6b006ed5.png: 512x512 Done. (0.030s)\n",
            "image 60/100 /content/test/a0e1cf897de9.png: 512x512 Done. (0.034s)\n",
            "image 61/100 /content/test/a1b228f183e6_rotate90.png: 512x512 1 1. indeterminates, Done. (0.031s)\n",
            "image 62/100 /content/test/a3e473d88466.png: 512x512 Done. (0.030s)\n",
            "image 63/100 /content/test/a5439252456f_rotate90.png: 512x512 Done. (0.030s)\n",
            "image 64/100 /content/test/a84e98abdf6d_rotate90.png: 512x512 Done. (0.030s)\n",
            "image 65/100 /content/test/adf925d6c357.png: 512x512 Done. (0.030s)\n",
            "image 66/100 /content/test/b2f5d0fe9ab4_rotate90.png: 512x512 Done. (0.030s)\n",
            "image 67/100 /content/test/b4e79f33047e.png: 512x512 Done. (0.030s)\n",
            "image 68/100 /content/test/b6959ada9a45_gaussianBlur.png: 512x512 1 1. indeterminates, Done. (0.031s)\n",
            "image 69/100 /content/test/b86bb52a7263.png: 512x512 1 1. indeterminates, Done. (0.031s)\n",
            "image 70/100 /content/test/bfdca4ce0cc9_rotate90.png: 512x512 1 1. indeterminates, Done. (0.031s)\n",
            "image 71/100 /content/test/c4812db46b98_affine.png: 512x512 Done. (0.030s)\n",
            "image 72/100 /content/test/c59cd49adf61_gaussianBlur.png: 512x512 2 1. indeterminates, Done. (0.031s)\n",
            "image 73/100 /content/test/c63f93b9e947_rotate90.png: 512x512 1 1. indeterminates, Done. (0.031s)\n",
            "image 74/100 /content/test/c73e3e0a98dc_gaussianBlur.png: 512x512 Done. (0.030s)\n",
            "image 75/100 /content/test/c8294ce59bdc_rotate90.png: 512x512 1 1. indeterminates, Done. (0.031s)\n",
            "image 76/100 /content/test/cca1c1a5635c_affine.png: 512x512 1 1. indeterminates, Done. (0.031s)\n",
            "image 77/100 /content/test/ce767a31525f.png: 512x512 Done. (0.039s)\n",
            "image 78/100 /content/test/d3d2a150489e.png: 512x512 1 1. indeterminates, Done. (0.031s)\n",
            "image 79/100 /content/test/d64b8920a193_rotate90.png: 512x512 Done. (0.030s)\n",
            "image 80/100 /content/test/d908cf9ff11b_gaussianBlur.png: 512x512 1 1. indeterminates, Done. (0.031s)\n",
            "image 81/100 /content/test/d9a7611d9adb.png: 512x512 Done. (0.030s)\n",
            "image 82/100 /content/test/dd7805f39e0d_rotate90.png: 512x512 1 1. indeterminates, Done. (0.031s)\n",
            "image 83/100 /content/test/de8583c07c80.png: 512x512 1 1. indeterminates, Done. (0.031s)\n",
            "image 84/100 /content/test/e205526f7405_affine.png: 512x512 Done. (0.030s)\n",
            "image 85/100 /content/test/e313470893d0_rotate90.png: 512x512 Done. (0.030s)\n",
            "image 86/100 /content/test/e363ca6a9b8d_rotate90.png: 512x512 Done. (0.030s)\n",
            "image 87/100 /content/test/e44be39bc62e_rotate90.png: 512x512 Done. (0.030s)\n",
            "image 88/100 /content/test/e6211c5c218c.png: 512x512 Done. (0.030s)\n",
            "image 89/100 /content/test/e885aaec6e66_rotate90.png: 512x512 Done. (0.030s)\n",
            "image 90/100 /content/test/e8e902f1b426_gaussianBlur.png: 512x512 1 1. indeterminates, Done. (0.032s)\n",
            "image 91/100 /content/test/e91403f2b6da_rotate90.png: 512x512 Done. (0.030s)\n",
            "image 92/100 /content/test/eab8dd7373b1_gaussianBlur.png: 512x512 1 1. indeterminates, Done. (0.031s)\n",
            "image 93/100 /content/test/efdc1a6d4739_affine.png: 512x512 Done. (0.030s)\n",
            "image 94/100 /content/test/f4711a5828f7.png: 512x512 Done. (0.030s)\n",
            "image 95/100 /content/test/f6ef78fff495_rotate90.png: 512x512 Done. (0.030s)\n",
            "image 96/100 /content/test/fb90b9f3be91_rotate90.png: 512x512 Done. (0.033s)\n",
            "image 97/100 /content/test/fe59c1157f50.png: 512x512 1 1. indeterminates, Done. (0.032s)\n",
            "image 98/100 /content/test/fe6cd1fbae72.png: 512x512 1 1. indeterminates, Done. (0.031s)\n",
            "image 99/100 /content/test/fe9d1086b64d_rotate90.png: 512x512 Done. (0.030s)\n",
            "image 100/100 /content/test/ffa9fef3c7bf_rotate90.png: 512x512 Done. (0.030s)\n",
            "Results saved to runs/detect/indeterminate\n",
            "33 labels saved to runs/detect/indeterminate/labels\n",
            "Done. (5.356s)\n"
          ]
        }
      ]
    },
    {
      "cell_type": "code",
      "metadata": {
        "id": "aiBKEk_w0psz",
        "colab": {
          "base_uri": "https://localhost:8080/"
        },
        "outputId": "afbc0124-638f-45df-9973-64ee5b46728c"
      },
      "source": [
        "!python detect.py --name 'atypical' --save-txt --save-conf --weights '/content/drive/MyDrive/Covid_final/runs_segmentation_atypical_300epochs/train/exp2/weights/best.pt' --img 512 --conf 0.1 --iou 0.5 --source /content/test --exist-ok"
      ],
      "execution_count": null,
      "outputs": [
        {
          "output_type": "stream",
          "name": "stdout",
          "text": [
            "Namespace(agnostic_nms=False, augment=False, classes=None, conf_thres=0.1, device='', exist_ok=True, img_size=512, iou_thres=0.5, name='atypical', project='runs/detect', save_conf=True, save_txt=True, source='/content/test', update=False, view_img=False, weights=['/content/drive/MyDrive/Covid_final/runs_segmentation_atypical_300epochs/train/exp2/weights/best.pt'])\n",
            "Using torch 1.9.0+cu111 CUDA:0 (Tesla P100-PCIE-16GB, 16280.875MB)\n",
            "\n",
            "Fusing layers... \n",
            "/usr/local/lib/python3.7/dist-packages/torch/nn/functional.py:718: UserWarning: Named tensors and all their associated APIs are an experimental feature and subject to change. Please do not use them for anything important until they are released as stable. (Triggered internally at  /pytorch/c10/core/TensorImpl.h:1156.)\n",
            "  return torch.max_pool2d(input, kernel_size, stride, padding, dilation, ceil_mode)\n",
            "Model Summary: 484 layers, 88390614 parameters, 0 gradients, 219.8 GFLOPS\n",
            "image 1/100 /content/test/01376c1ba556.png: 512x512 Done. (0.030s)\n",
            "image 2/100 /content/test/01a869686037.png: 512x512 Done. (0.030s)\n",
            "image 3/100 /content/test/01e4def48338.png: 512x512 1 1. indeterminates, Done. (0.032s)\n",
            "image 4/100 /content/test/03dc2e91e74d.png: 512x512 Done. (0.030s)\n",
            "image 5/100 /content/test/04c1af6cb8df.png: 512x512 2 1. indeterminates, Done. (0.031s)\n",
            "image 6/100 /content/test/06f4f2f03a93_gaussianBlur.png: 512x512 1 1. indeterminates, Done. (0.031s)\n",
            "image 7/100 /content/test/09c909226d35_gaussianBlur.png: 512x512 1 1. indeterminates, Done. (0.031s)\n",
            "image 8/100 /content/test/0c5283a41d9d_affine.png: 512x512 Done. (0.030s)\n",
            "image 9/100 /content/test/0d71137b53d7.png: 512x512 1 1. indeterminates, Done. (0.031s)\n",
            "image 10/100 /content/test/1ae2c3d63f1c.png: 512x512 Done. (0.030s)\n",
            "image 11/100 /content/test/1d96a1349a36.png: 512x512 2 1. indeterminates, Done. (0.032s)\n",
            "image 12/100 /content/test/1ea96fd9dd7c.png: 512x512 Done. (0.030s)\n",
            "image 13/100 /content/test/1ed1fa2827c8_gaussianBlur.png: 512x512 1 1. indeterminates, Done. (0.031s)\n",
            "image 14/100 /content/test/22d2fa33d2d1.png: 512x512 Done. (0.030s)\n",
            "image 15/100 /content/test/24676aae20cf_rotate90.png: 512x512 Done. (0.030s)\n",
            "image 16/100 /content/test/25af1dc6eb56.png: 512x512 1 1. indeterminates, Done. (0.031s)\n",
            "image 17/100 /content/test/27aa1d7c5cfe.png: 512x512 Done. (0.030s)\n",
            "image 18/100 /content/test/27e463d224ef.png: 512x512 Done. (0.030s)\n",
            "image 19/100 /content/test/2fdf3a91ebb5.png: 512x512 Done. (0.030s)\n",
            "image 20/100 /content/test/31376011baec.png: 512x512 Done. (0.030s)\n",
            "image 21/100 /content/test/319b2b906a1f_rotate90.png: 512x512 Done. (0.030s)\n",
            "image 22/100 /content/test/35e809b03440_affine.png: 512x512 1 1. indeterminates, Done. (0.031s)\n",
            "image 23/100 /content/test/424118f1afc8_flip.png: 512x512 1 1. indeterminates, Done. (0.031s)\n",
            "image 24/100 /content/test/4927468dcace_gaussianBlur.png: 512x512 Done. (0.030s)\n",
            "image 25/100 /content/test/4d904469de66.png: 512x512 Done. (0.030s)\n",
            "image 26/100 /content/test/4e8f69e4ffa4.png: 512x512 Done. (0.030s)\n",
            "image 27/100 /content/test/4efd20c837dc.png: 512x512 Done. (0.030s)\n",
            "image 28/100 /content/test/5115fada2a38_gaussianBlur.png: 512x512 Done. (0.030s)\n",
            "image 29/100 /content/test/51bb4235d797_gaussianBlur.png: 512x512 2 1. indeterminates, Done. (0.031s)\n",
            "image 30/100 /content/test/5465a55f0ee2.png: 512x512 Done. (0.030s)\n",
            "image 31/100 /content/test/54c2a4ddd625_gaussianBlur.png: 512x512 4 1. indeterminates, Done. (0.031s)\n",
            "image 32/100 /content/test/54f912577306.png: 512x512 2 1. indeterminates, Done. (0.031s)\n",
            "image 33/100 /content/test/5521664ffec4.png: 512x512 Done. (0.030s)\n",
            "image 34/100 /content/test/5cae48f87eb1.png: 512x512 Done. (0.037s)\n",
            "image 35/100 /content/test/5f5cdc44b299_gaussianBlur.png: 512x512 1 1. indeterminates, Done. (0.032s)\n",
            "image 36/100 /content/test/608d574388ba.png: 512x512 1 1. indeterminates, Done. (0.031s)\n",
            "image 37/100 /content/test/636b2b26d2f8_rotate90.png: 512x512 Done. (0.032s)\n",
            "image 38/100 /content/test/6a80fbffe6d9_affine.png: 512x512 Done. (0.030s)\n",
            "image 39/100 /content/test/72483572a348.png: 512x512 Done. (0.030s)\n",
            "image 40/100 /content/test/731fd80099b1_flip.png: 512x512 Done. (0.030s)\n",
            "image 41/100 /content/test/74077a8e3b7c_gaussianBlur.png: 512x512 3 1. indeterminates, Done. (0.031s)\n",
            "image 42/100 /content/test/76264298dfc8_affine.png: 512x512 Done. (0.030s)\n",
            "image 43/100 /content/test/7652321644be.png: 512x512 Done. (0.030s)\n",
            "image 44/100 /content/test/76d45ddd80d8.png: 512x512 Done. (0.032s)\n",
            "image 45/100 /content/test/7749cddd0a17.png: 512x512 Done. (0.030s)\n",
            "image 46/100 /content/test/7b2427458df7.png: 512x512 Done. (0.030s)\n",
            "image 47/100 /content/test/803d705a1d33.png: 512x512 Done. (0.030s)\n",
            "image 48/100 /content/test/823021d09748.png: 512x512 Done. (0.030s)\n",
            "image 49/100 /content/test/8796d926ea05_rotate90.png: 512x512 2 1. indeterminates, Done. (0.031s)\n",
            "image 50/100 /content/test/891e69e94d41.png: 512x512 Done. (0.030s)\n",
            "image 51/100 /content/test/89f79c0409a8.png: 512x512 Done. (0.030s)\n",
            "image 52/100 /content/test/8b952bd3b600.png: 512x512 Done. (0.030s)\n",
            "image 53/100 /content/test/8bb20ca76aad_gaussianBlur.png: 512x512 Done. (0.030s)\n",
            "image 54/100 /content/test/94dfaa1ebe4d_gaussianBlur.png: 512x512 Done. (0.035s)\n",
            "image 55/100 /content/test/9b056a88674c_gaussianBlur.png: 512x512 Done. (0.030s)\n",
            "image 56/100 /content/test/9be91275c44f.png: 512x512 Done. (0.030s)\n",
            "image 57/100 /content/test/9d45a7e2deda.png: 512x512 Done. (0.030s)\n",
            "image 58/100 /content/test/9e43d7b5ad9c_gaussianBlur.png: 512x512 1 1. indeterminates, Done. (0.031s)\n",
            "image 59/100 /content/test/a09c6b006ed5.png: 512x512 Done. (0.030s)\n",
            "image 60/100 /content/test/a0e1cf897de9.png: 512x512 Done. (0.030s)\n",
            "image 61/100 /content/test/a1b228f183e6_rotate90.png: 512x512 Done. (0.030s)\n",
            "image 62/100 /content/test/a3e473d88466.png: 512x512 Done. (0.030s)\n",
            "image 63/100 /content/test/a5439252456f_rotate90.png: 512x512 Done. (0.030s)\n",
            "image 64/100 /content/test/a84e98abdf6d_rotate90.png: 512x512 Done. (0.030s)\n",
            "image 65/100 /content/test/adf925d6c357.png: 512x512 Done. (0.031s)\n",
            "image 66/100 /content/test/b2f5d0fe9ab4_rotate90.png: 512x512 Done. (0.031s)\n",
            "image 67/100 /content/test/b4e79f33047e.png: 512x512 Done. (0.030s)\n",
            "image 68/100 /content/test/b6959ada9a45_gaussianBlur.png: 512x512 Done. (0.030s)\n",
            "image 69/100 /content/test/b86bb52a7263.png: 512x512 Done. (0.030s)\n",
            "image 70/100 /content/test/bfdca4ce0cc9_rotate90.png: 512x512 Done. (0.030s)\n",
            "image 71/100 /content/test/c4812db46b98_affine.png: 512x512 Done. (0.030s)\n",
            "image 72/100 /content/test/c59cd49adf61_gaussianBlur.png: 512x512 Done. (0.031s)\n",
            "image 73/100 /content/test/c63f93b9e947_rotate90.png: 512x512 Done. (0.038s)\n",
            "image 74/100 /content/test/c73e3e0a98dc_gaussianBlur.png: 512x512 1 1. indeterminates, Done. (0.033s)\n",
            "image 75/100 /content/test/c8294ce59bdc_rotate90.png: 512x512 Done. (0.037s)\n",
            "image 76/100 /content/test/cca1c1a5635c_affine.png: 512x512 Done. (0.030s)\n",
            "image 77/100 /content/test/ce767a31525f.png: 512x512 Done. (0.030s)\n",
            "image 78/100 /content/test/d3d2a150489e.png: 512x512 Done. (0.030s)\n",
            "image 79/100 /content/test/d64b8920a193_rotate90.png: 512x512 Done. (0.030s)\n",
            "image 80/100 /content/test/d908cf9ff11b_gaussianBlur.png: 512x512 Done. (0.030s)\n",
            "image 81/100 /content/test/d9a7611d9adb.png: 512x512 1 1. indeterminates, Done. (0.031s)\n",
            "image 82/100 /content/test/dd7805f39e0d_rotate90.png: 512x512 Done. (0.030s)\n",
            "image 83/100 /content/test/de8583c07c80.png: 512x512 1 1. indeterminates, Done. (0.031s)\n",
            "image 84/100 /content/test/e205526f7405_affine.png: 512x512 Done. (0.030s)\n",
            "image 85/100 /content/test/e313470893d0_rotate90.png: 512x512 Done. (0.030s)\n",
            "image 86/100 /content/test/e363ca6a9b8d_rotate90.png: 512x512 3 1. indeterminates, Done. (0.031s)\n",
            "image 87/100 /content/test/e44be39bc62e_rotate90.png: 512x512 Done. (0.030s)\n",
            "image 88/100 /content/test/e6211c5c218c.png: 512x512 Done. (0.036s)\n",
            "image 89/100 /content/test/e885aaec6e66_rotate90.png: 512x512 1 1. indeterminates, Done. (0.031s)\n",
            "image 90/100 /content/test/e8e902f1b426_gaussianBlur.png: 512x512 Done. (0.039s)\n",
            "image 91/100 /content/test/e91403f2b6da_rotate90.png: 512x512 Done. (0.030s)\n",
            "image 92/100 /content/test/eab8dd7373b1_gaussianBlur.png: 512x512 Done. (0.030s)\n",
            "image 93/100 /content/test/efdc1a6d4739_affine.png: 512x512 2 1. indeterminates, Done. (0.040s)\n",
            "image 94/100 /content/test/f4711a5828f7.png: 512x512 Done. (0.030s)\n",
            "image 95/100 /content/test/f6ef78fff495_rotate90.png: 512x512 1 1. indeterminates, Done. (0.032s)\n",
            "image 96/100 /content/test/fb90b9f3be91_rotate90.png: 512x512 Done. (0.030s)\n",
            "image 97/100 /content/test/fe59c1157f50.png: 512x512 Done. (0.030s)\n",
            "image 98/100 /content/test/fe6cd1fbae72.png: 512x512 Done. (0.030s)\n",
            "image 99/100 /content/test/fe9d1086b64d_rotate90.png: 512x512 Done. (0.030s)\n",
            "image 100/100 /content/test/ffa9fef3c7bf_rotate90.png: 512x512 Done. (0.030s)\n",
            "Results saved to runs/detect/atypical\n",
            "25 labels saved to runs/detect/atypical/labels\n",
            "Done. (5.493s)\n"
          ]
        }
      ]
    },
    {
      "cell_type": "code",
      "metadata": {
        "id": "ujrfeQe4GyFs",
        "colab": {
          "base_uri": "https://localhost:8080/"
        },
        "outputId": "efc815c3-8ea9-48d7-a9f6-51b18628d415"
      },
      "source": [
        "%cd /content"
      ],
      "execution_count": null,
      "outputs": [
        {
          "output_type": "stream",
          "name": "stdout",
          "text": [
            "/content\n"
          ]
        }
      ]
    },
    {
      "cell_type": "code",
      "metadata": {
        "id": "Yq8DoXyPxWnn",
        "colab": {
          "base_uri": "https://localhost:8080/"
        },
        "outputId": "5feb9c4e-5528-46b8-a6b0-14d1b6a3b3a8"
      },
      "source": [
        "!git clone https://github.com/ZFTurbo/Weighted-Boxes-Fusion.git"
      ],
      "execution_count": null,
      "outputs": [
        {
          "output_type": "stream",
          "name": "stdout",
          "text": [
            "Cloning into 'Weighted-Boxes-Fusion'...\n",
            "remote: Enumerating objects: 156, done.\u001b[K\n",
            "remote: Counting objects: 100% (156/156), done.\u001b[K\n",
            "remote: Compressing objects: 100% (107/107), done.\u001b[K\n",
            "remote: Total 156 (delta 79), reused 112 (delta 44), pack-reused 0\u001b[K\n",
            "Receiving objects: 100% (156/156), 42.88 KiB | 878.00 KiB/s, done.\n",
            "Resolving deltas: 100% (79/79), done.\n"
          ]
        }
      ]
    },
    {
      "cell_type": "code",
      "metadata": {
        "id": "I0Z97HCAx4zQ",
        "colab": {
          "base_uri": "https://localhost:8080/"
        },
        "outputId": "65b62915-7065-40f3-f523-b9429d18aa5a"
      },
      "source": [
        "%cd /content/Weighted-Boxes-Fusion"
      ],
      "execution_count": null,
      "outputs": [
        {
          "output_type": "stream",
          "name": "stdout",
          "text": [
            "/content/Weighted-Boxes-Fusion\n"
          ]
        }
      ]
    },
    {
      "cell_type": "code",
      "metadata": {
        "id": "d7_DSvdP2KRH"
      },
      "source": [
        "def get_boxes(file_path):\n",
        "\n",
        "  with open(file_path) as f:\n",
        "    lines = f.readlines()\n",
        "    labels = []\n",
        "    bboxes = []\n",
        "    scores = []\n",
        "    for line in lines:\n",
        "      line = line.strip('\\n')\n",
        "      line = line.split(' ')\n",
        "      label = int(line[0])\n",
        "      bbox = [float(i) for i in line[1:-1]]\n",
        "      bbox[0], bbox[2] = bbox[2], bbox[0]\n",
        "      bbox[1], bbox[3] = bbox[3], bbox[1]\n",
        "      conf = float(line[-1])\n",
        "      labels.append(label)\n",
        "      bboxes.append(bbox)\n",
        "      scores.append(conf)\n",
        "  \n",
        "  return bboxes, labels, scores"
      ],
      "execution_count": null,
      "outputs": []
    },
    {
      "cell_type": "code",
      "metadata": {
        "id": "VOR4gpiq2z4x"
      },
      "source": [
        "def get_all_op(image_id, verbose = False):\n",
        "\n",
        "  boxes_list = []\n",
        "  scores_list = []\n",
        "  labels_list = []\n",
        "  weights = []\n",
        "\n",
        "  # Typical\n",
        "  try:\n",
        "    bboxes_typical, labels_typical, scores_typical = get_boxes(f'/content/yolov5/runs/detect/typical/labels/{image_id}.txt')\n",
        "    boxes_list.append(bboxes_typical)\n",
        "\n",
        "    labels_list.append(labels_typical)\n",
        "    scores_list.append(scores_typical)\n",
        "\n",
        "    weights.append(3)\n",
        "\n",
        "    if verbose:\n",
        "      print('-------------------------------------------')\n",
        "      print('*****bboxes_typical*****')\n",
        "      print(bboxes_typical)\n",
        "      \n",
        "      print('\\n*****labels_typical*****')\n",
        "      print(labels_typical)\n",
        "      \n",
        "      print('\\n*****scores_typical*****')\n",
        "      print(scores_typical)\n",
        "      \n",
        "      print('-------------------------------------------')\n",
        "\n",
        "  except:\n",
        "    pass\n",
        "\n",
        "\n",
        "  # Indeterminate\n",
        "  try:\n",
        "    bboxes_indeterminate, labels_indeterminate, scores_indeterminate = get_boxes(f'/content/yolov5/runs/detect/indeterminate/labels/{image_id}.txt')\n",
        "    boxes_list.append(bboxes_indeterminate)\n",
        "    \n",
        "    labels_indeterminate = [1 for i in range(len(labels_indeterminate))]\n",
        "    labels_list.append(labels_indeterminate)\n",
        "    \n",
        "    scores_list.append(scores_indeterminate)\n",
        "\n",
        "    weights.append(2)\n",
        "\n",
        "    if verbose:\n",
        "      print('*****bboxes_indeterminate*****')\n",
        "      print(bboxes_indeterminate)\n",
        "      \n",
        "      print('\\n*****labels_indeterminate*****')\n",
        "      print(labels_indeterminate)\n",
        "      \n",
        "      print('\\n*****scores_indeterminate*****')\n",
        "      print(scores_indeterminate)\n",
        "      \n",
        "      print('-------------------------------------------')\n",
        "    \n",
        "  except:\n",
        "    pass\n",
        "\n",
        "\n",
        "  # Atypical\n",
        "  try:\n",
        "    bboxes_atypical, labels_atypical, scores_atypical = get_boxes(f'/content/yolov5/runs/detect/atypical/labels/{image_id}.txt')\n",
        "    boxes_list.append(bboxes_atypical)\n",
        "\n",
        "    labels_atypical = [2 for i in range(len(labels_atypical))]\n",
        "    labels_list.append(labels_atypical)\n",
        "\n",
        "    scores_list.append(scores_atypical)\n",
        "\n",
        "    weights.append(1)\n",
        "\n",
        "    if verbose:\n",
        "      print('*****bboxes_atypical*****')\n",
        "      print(bboxes_atypical)  \n",
        "\n",
        "      print('\\n*****labels_atypical*****')\n",
        "      print(labels_atypical)\n",
        "\n",
        "      print('\\n*****scores_atypical*****')\n",
        "      print(scores_atypical)\n",
        "      print('-------------------------------------------')\n",
        "\n",
        "  except:\n",
        "    pass\n",
        "\n",
        "  return boxes_list, scores_list, labels_list, weights"
      ],
      "execution_count": null,
      "outputs": []
    },
    {
      "cell_type": "code",
      "metadata": {
        "id": "NwcLeavm2R2T"
      },
      "source": [
        "id = 'd249f6b76d37_flip'\n",
        "boxes_list, scores_list, labels_list, weights = get_all_op(id, verbose = True)"
      ],
      "execution_count": null,
      "outputs": []
    },
    {
      "cell_type": "code",
      "metadata": {
        "colab": {
          "base_uri": "https://localhost:8080/"
        },
        "id": "cDWI2gyM5ubb",
        "outputId": "fcc1b8a8-e132-4924-92dc-f7ab5af91e22"
      },
      "source": [
        "print(boxes_list)"
      ],
      "execution_count": null,
      "outputs": [
        {
          "output_type": "stream",
          "name": "stdout",
          "text": [
            "[]\n"
          ]
        }
      ]
    },
    {
      "cell_type": "code",
      "metadata": {
        "id": "aRHltN-Xxz_a"
      },
      "source": [
        "from ensemble_boxes import *\n",
        "# boxes_list = [[\n",
        "#     [0.00, 0.51, 0.81, 0.91],\n",
        "#     [0.10, 0.31, 0.71, 0.61],\n",
        "#     [0.01, 0.32, 0.83, 0.93],\n",
        "#     [0.02, 0.53, 0.11, 0.94],\n",
        "#     [0.03, 0.24, 0.12, 0.35],\n",
        "# ],[\n",
        "#     [0.04, 0.56, 0.84, 0.92],\n",
        "#     [0.12, 0.33, 0.72, 0.64],\n",
        "#     [0.38, 0.66, 0.79, 0.95],\n",
        "#     [0.08, 0.49, 0.21, 0.89],\n",
        "# ]]\n",
        "# scores_list = [[0.9, 0.8, 0.2, 0.4, 0.7], [0.5, 0.8, 0.7, 0.3]]\n",
        "# labels_list = [[0, 1, 0, 1, 1], [1, 1, 1, 0]]\n",
        "# weights = [2, 1]\n",
        "\n",
        "iou_thr = 0.3\n",
        "skip_box_thr = 0.0001\n",
        "sigma = 0.1\n",
        "\n",
        "# boxes_nms, scores_nms, labels_nms = nms(boxes_list, scores_list, labels_list, weights=weights, iou_thr=iou_thr)\n",
        "# boxes_soft_nms, scores_soft_nms, labels_soft_nms = soft_nms(boxes_list, scores_list, labels_list, weights=weights, iou_thr=iou_thr, sigma=sigma, thresh=skip_box_thr)\n",
        "# boxes_non_maximum_weighted, scores_non_maximum_weighted, labels_non_maximum_weighted = non_maximum_weighted(boxes_list, scores_list, labels_list, weights=weights, iou_thr=iou_thr, skip_box_thr=skip_box_thr)\n",
        "# boxes_weighted_boxes_fusion, scores_weighted_boxes_fusion, labels_weighted_boxes_fusion = weighted_boxes_fusion(boxes_list, scores_list, labels_list, weights=weights, iou_thr=iou_thr, skip_box_thr=skip_box_thr)\n"
      ],
      "execution_count": null,
      "outputs": []
    },
    {
      "cell_type": "code",
      "metadata": {
        "id": "3KGU9nRax3PB"
      },
      "source": [
        "# print('*****boxes*****')\n",
        "# print(boxes_nms)\n",
        "\n",
        "# print('\\n*****scores*****')\n",
        "# print(scores_nms)\n",
        "\n",
        "# print('\\n*****labels*****')\n",
        "# print(labels_nms)"
      ],
      "execution_count": null,
      "outputs": []
    },
    {
      "cell_type": "code",
      "metadata": {
        "id": "pXckvamFp6x2"
      },
      "source": [
        "def box_format(bboxes):\n",
        "\n",
        "  for i in range(len(bboxes)):\n",
        "    # bboxes[i] = list(map(scale_up, bboxes[i]))\n",
        "    xc, yc, w, h = bboxes[i]\n",
        "    x1 = xc - int(np.round(w/2))\n",
        "    y1 = yc - int(np.round(h/2))\n",
        "    x2 = xc + int(np.round(w/2))\n",
        "    y2 = yc + int(np.round(h/2))\n",
        "\n",
        "    x1 = max(0, int(float(x1)))\n",
        "    y1 = max(0, int(float(y1)))\n",
        "    x2 = min(512, int(float(x2)))\n",
        "    y2 = min(512, int(float(y2)))\n",
        "    bboxes[i] = [x1,y1,x2,y2]\n",
        "  return bboxes"
      ],
      "execution_count": null,
      "outputs": []
    },
    {
      "cell_type": "code",
      "metadata": {
        "id": "4tnMXhItyOmK"
      },
      "source": [
        "import matplotlib.pyplot as plt\n",
        "import cv2\n",
        "import numpy as np\n",
        "COLORS = [(255,0,0), (0,255,0), (0,0,255), (255,255,0), (255,0,255)]\n",
        "\n",
        "def plot_bbox(image_path, boxes, labels):\n",
        "\n",
        "    if isinstance(image_path, str):\n",
        "        image = cv2.imread(image_path)\n",
        "    else:\n",
        "        image = image_path\n",
        "    for i in range(len(boxes)):\n",
        "        xc, yc, w, h = boxes[i]\n",
        "\n",
        "        x1 = xc - int(np.round(w/2))\n",
        "        y1 = yc - int(np.round(h/2))\n",
        "        x2 = xc + int(np.round(w/2))\n",
        "        y2 = yc + int(np.round(h/2))\n",
        "\n",
        "        x1 = int(float(x1))\n",
        "        y1 = int(float(y1))\n",
        "        x2 = int(float(x2))\n",
        "        y2 = int(float(y2))\n",
        "\n",
        "\n",
        "        # x = int(float(x)*dw)\n",
        "        # y = int(float(y)*dh)\n",
        "        # w = int(float(w)*dw)\n",
        "        # h = int(float(h)*dh)\n",
        "        # print(x1,y1,x2,y2)\n",
        "        # draw a bounding box rectangle and label on the image\n",
        "        color_id = labels[i]\n",
        "        color = COLORS[color_id]\n",
        "        # image = cv2.cvtColor(image, cv2.COLOR_BGR2RGB)\n",
        "        image = cv2.rectangle(image, (x1, y1), (x2, y2), (255,0,0), 2)\n",
        "        \n",
        "        # text = \"{}: {:.4f}\".format(LABELS[classIDs[i]], confidences[i])\n",
        "\n",
        "        # cv2.putText(image, text, (x, y - 5), cv2.FONT_HERSHEY_SIMPLEX,0.5, color, 2)\n",
        "    \n",
        "\n",
        "    plt.imshow(image)\n",
        "    return image"
      ],
      "execution_count": null,
      "outputs": []
    },
    {
      "cell_type": "code",
      "metadata": {
        "id": "Ttt5K2Sm9lLc"
      },
      "source": [
        "def scale_up(x):\n",
        "        return x*512\n",
        "\n",
        "# labels = list(map(int, labels_nms))\n",
        "# boxes = list(map(scale_up, boxes_nms))"
      ],
      "execution_count": null,
      "outputs": []
    },
    {
      "cell_type": "code",
      "metadata": {
        "id": "cXSi1fFt9TMQ"
      },
      "source": [
        "# image_path = '/content/test/000a312787f2.png'\n",
        "# plot_bbox(image_path, boxes, labels)"
      ],
      "execution_count": null,
      "outputs": []
    },
    {
      "cell_type": "markdown",
      "metadata": {
        "id": "oVwn_mGhOD_O"
      },
      "source": [
        "# **Evaluate Model**"
      ]
    },
    {
      "cell_type": "code",
      "metadata": {
        "id": "Mbok48ZPOMVE"
      },
      "source": [
        "'''\n",
        "1 directory for ground truth bboxes\n",
        "another from predicted bboxes\n",
        "'''\n",
        "GT = ''\n",
        "PRED = ''\n",
        "\n",
        "IOU_THRESHOLD = 0.25"
      ],
      "execution_count": null,
      "outputs": []
    },
    {
      "cell_type": "code",
      "metadata": {
        "id": "1oupIc18OUVi"
      },
      "source": [
        "def bb_intersection_over_union(boxA, boxB):\n",
        "\t# determine the (x, y)-coordinates of the intersection rectangle\n",
        "  xA = max(boxA[0], boxB[0])\n",
        "  yA = max(boxA[1], boxB[1])\n",
        "  xB = min(boxA[2], boxB[2])\n",
        "  yB = min(boxA[3], boxB[3])\n",
        "\n",
        "  # compute the area of intersection rectangle\n",
        "  interArea = max(0, xB - xA + 1) * max(0, yB - yA + 1)\n",
        "  # compute the area of both the prediction and ground-truth\n",
        "  # rectangles\n",
        "  boxAArea = (boxA[2] - boxA[0] + 1) * (boxA[3] - boxA[1] + 1)\n",
        "  boxBArea = (boxB[2] - boxB[0] + 1) * (boxB[3] - boxB[1] + 1)\n",
        "  # compute the intersection over union by taking the intersection\n",
        "  # area and dividing it by the sum of prediction + ground-truth\n",
        "  # areas - the interesection area\n",
        "  iou = interArea / float(boxAArea + boxBArea - interArea)\n",
        "  # return the intersection over union value\n",
        "  return iou"
      ],
      "execution_count": null,
      "outputs": []
    },
    {
      "cell_type": "code",
      "metadata": {
        "id": "Q7rWtOneJMzi"
      },
      "source": [
        "def get_gt_boxes(file_path):\n",
        "\n",
        "  with open(file_path) as f:\n",
        "    lines = f.readlines()\n",
        "\n",
        "    bboxes = []\n",
        "    labels = []\n",
        "    for line in lines:\n",
        "\n",
        "      line = line.split(' ')\n",
        "      label = int(line[0])\n",
        "      bbox = [float(i)/512 for i in line[1:]]\n",
        "\n",
        "      bboxes.append(bbox)\n",
        "      labels.append(label)\n",
        "\n",
        "    return bboxes, labels"
      ],
      "execution_count": null,
      "outputs": []
    },
    {
      "cell_type": "code",
      "metadata": {
        "id": "EXV_tbgZxvFO"
      },
      "source": [
        "#GT = get_gt_boxes('/content/drive/MyDrive/Covid_classification/labels/000a312787f2.txt')[0]\n",
        "#pred = get_boxes('/content/yolov5/runs/detect/typical/labels/000a312787f2.txt')[0]"
      ],
      "execution_count": null,
      "outputs": []
    },
    {
      "cell_type": "code",
      "metadata": {
        "id": "-URtRLOTHK2U"
      },
      "source": [
        "def gt_pred(GT, pred):\n",
        "  # GT = get_gt_boxes(gt)[0]\n",
        "  # pred = get_boxes(pred)\n",
        "  # scores = pred[2]\n",
        "  # pred = pred[0]\n",
        "\n",
        "  for i in range(len(GT)):\n",
        "    GT[i] = list(map(scale_up, GT[i]))\n",
        "  for i in range(len(pred)):\n",
        "    pred[i] = list(map(scale_up, pred[i]))\n",
        "\n",
        "  GT = box_format(GT)\n",
        "  pred = box_format(pred)\n",
        "\n",
        "  return GT, pred"
      ],
      "execution_count": null,
      "outputs": []
    },
    {
      "cell_type": "code",
      "metadata": {
        "id": "9S6yLmX15QJ4"
      },
      "source": [
        "def evaluate_detection(GT, pred, TP, FP, FN):\n",
        "\n",
        "  # GT_file = '/content/drive/MyDrive/Covid_classification/labels/{}.txt'.format(image_id)\n",
        "  # pred_file = '/content/yolov5/runs/detect/typical/labels/{}.txt'.format(image_id)\n",
        "\n",
        "  # GT, pred, scores = gt_pred(GT_file, pred_file)\n",
        "  \n",
        "  tp = 0\n",
        "  for g in GT:\n",
        "    for p in pred:\n",
        "      iou = bb_intersection_over_union(g, p)\n",
        "      if iou > IOU_THRESHOLD:\n",
        "        tp += 1\n",
        "        break\n",
        "  \n",
        "  fp = len(pred) - tp\n",
        "\n",
        "  #if len(pred) > len(GT):\n",
        "  #  fp = len(pred) - tp\n",
        "  #else:\n",
        "  #  fp = len(pred) - tp\n",
        "  \n",
        "  fn = len(GT) - tp\n",
        "\n",
        "  TP += tp\n",
        "  FP += fp\n",
        "  FN += fn\n",
        "\n",
        "  return TP, FP, FN\n"
      ],
      "execution_count": null,
      "outputs": []
    },
    {
      "cell_type": "code",
      "metadata": {
        "id": "pt6sc0r0GtsK"
      },
      "source": [
        "GT_DIR = '/content/drive/MyDrive/Covid_classification/labels/'"
      ],
      "execution_count": null,
      "outputs": []
    },
    {
      "cell_type": "code",
      "metadata": {
        "id": "-aGBgh92BC1Q"
      },
      "source": [
        "def val(val_dir):\n",
        "  TP = 0\n",
        "  FP = 0\n",
        "  FN = 0\n",
        "\n",
        "  for img in tqdm(os.listdir(val_dir)):\n",
        "    try:\n",
        "      id = img.strip('.png')\n",
        "      boxes_list, scores_list, labels_list, weights = get_all_op(id, verbose = False)\n",
        "      pred, scores, labels = weighted_boxes_fusion(boxes_list, scores_list, labels_list, weights=weights, iou_thr=iou_thr, skip_box_thr=skip_box_thr)\n",
        "\n",
        "      GT = get_gt_boxes(GT_DIR + id + '.txt')[0]\n",
        "      GT, pred = gt_pred(GT, pred)\n",
        "\n",
        "      # print(bb_intersection_over_union(GT[0], pred[0]))\n",
        "      TP, FP, FN = evaluate_detection(GT, pred, TP, FP, FN)\n",
        "    except Exception as E:\n",
        "      continue\n",
        "  return TP, FP, FN"
      ],
      "execution_count": null,
      "outputs": []
    },
    {
      "cell_type": "code",
      "metadata": {
        "id": "Dy7WoDFqJ75e",
        "colab": {
          "base_uri": "https://localhost:8080/"
        },
        "outputId": "8ab396ab-e1a2-465c-88a2-6e91946f5b51"
      },
      "source": [
        "TP, FP, FN = val('/content/test')\n",
        "print(TP, FP, FN)"
      ],
      "execution_count": null,
      "outputs": [
        {
          "output_type": "stream",
          "name": "stderr",
          "text": [
            "\r  0%|          | 0/100 [00:00<?, ?it/s]/content/Weighted-Boxes-Fusion/ensemble_boxes/ensemble_boxes_wbf.py:61: UserWarning: Y2 < Y1 value in box. Swap them.\n",
            "  warnings.warn('Y2 < Y1 value in box. Swap them.')\n",
            "  1%|          | 1/100 [00:01<01:55,  1.16s/it]/content/Weighted-Boxes-Fusion/ensemble_boxes/ensemble_boxes_wbf.py:61: UserWarning: Y2 < Y1 value in box. Swap them.\n",
            "  warnings.warn('Y2 < Y1 value in box. Swap them.')\n",
            "/content/Weighted-Boxes-Fusion/ensemble_boxes/ensemble_boxes_wbf.py:58: UserWarning: X2 < X1 value in box. Swap them.\n",
            "  warnings.warn('X2 < X1 value in box. Swap them.')\n",
            "100%|██████████| 100/100 [00:43<00:00,  2.31it/s]"
          ]
        },
        {
          "output_type": "stream",
          "name": "stdout",
          "text": [
            "31 160 62\n"
          ]
        },
        {
          "output_type": "stream",
          "name": "stderr",
          "text": [
            "\n"
          ]
        }
      ]
    },
    {
      "cell_type": "code",
      "metadata": {
        "id": "etRqhUwqND5G"
      },
      "source": [
        "precision = TP/(TP + FP)\n",
        "recall = TP/(TP + FN)"
      ],
      "execution_count": null,
      "outputs": []
    },
    {
      "cell_type": "code",
      "metadata": {
        "id": "MBdW4MqxNRIs"
      },
      "source": [
        "print('*****precision*****')\n",
        "print(precision)\n",
        "print('*****recall*****')\n",
        "print(recall)"
      ],
      "execution_count": null,
      "outputs": []
    },
    {
      "cell_type": "code",
      "metadata": {
        "id": "bN0-mNXrL04z"
      },
      "source": [
        "def plot_bbox(image_path, boxes, labels):\n",
        "\n",
        "    if isinstance(image_path, str):\n",
        "        image = cv2.imread(image_path)\n",
        "    else:\n",
        "        image = image_path\n",
        "    for i in range(len(boxes)):\n",
        "        xc, yc, w, h = boxes[i]\n",
        "\n",
        "        x1 = xc - int(np.round(w/2))\n",
        "        y1 = yc - int(np.round(h/2))\n",
        "        x2 = xc + int(np.round(w/2))\n",
        "        y2 = yc + int(np.round(h/2))\n",
        "\n",
        "        x1 = int(float(x1))\n",
        "        y1 = int(float(y1))\n",
        "        x2 = int(float(x2))\n",
        "        y2 = int(float(y2))\n",
        "\n",
        "\n",
        "        # x = int(float(x)*dw)\n",
        "        # y = int(float(y)*dh)\n",
        "        # w = int(float(w)*dw)\n",
        "        # h = int(float(h)*dh)\n",
        "        # print(x1,y1,x2,y2)\n",
        "        # draw a bounding box rectangle and label on the image\n",
        "        color_id = labels[i]\n",
        "        color = COLORS[color_id]\n",
        "        # image = cv2.cvtColor(image, cv2.COLOR_BGR2RGB)\n",
        "        image = cv2.rectangle(image, (x1, y1), (x2, y2), color, 2)\n",
        "        \n",
        "        # text = \"{}: {:.4f}\".format(LABELS[classIDs[i]], confidences[i])\n",
        "\n",
        "        # cv2.putText(image, text, (x, y - 5), cv2.FONT_HERSHEY_SIMPLEX,0.5, color, 2)\n",
        "    \n",
        "\n",
        "    plt.imshow(image)\n",
        "    return image"
      ],
      "execution_count": null,
      "outputs": []
    },
    {
      "cell_type": "code",
      "metadata": {
        "id": "ijZL6V3-BSJb"
      },
      "source": [
        ""
      ],
      "execution_count": null,
      "outputs": []
    }
  ]
}